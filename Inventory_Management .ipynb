{
 "cells": [
  {
   "cell_type": "code",
   "execution_count": 2,
   "metadata": {},
   "outputs": [],
   "source": [
    "from matplotlib import pyplot as plt\n",
    "import numpy as np\n",
    "from datetime import datetime\n",
    "import random\n",
    "import sys"
   ]
  },
  {
   "cell_type": "code",
   "execution_count": 20,
   "metadata": {},
   "outputs": [],
   "source": [
    "all_products = [\n",
    "    [1, 'Mobile Phones', 150, '200$'], \n",
    "    [2, 'Laptop', 100, '400$'], \n",
    "    [3, 'charger', 200, '100$'], \n",
    "    [4, 'Refrigerator', 100, '500$'], \n",
    "    [5, 'Speaker', 250, '300$']\n",
    "]"
   ]
  },
  {
   "cell_type": "code",
   "execution_count": 32,
   "metadata": {},
   "outputs": [
    {
     "data": {
      "image/png": "[encoded data removed]",
      "text/plain": [
       "<Figure size 720x360 with 1 Axes>"
      ]
     },
     "metadata": {
      "needs_background": "light"
     },
     "output_type": "display_data"
    }
   ],
   "source": [
    "data = {'Mobile Phone ':200, 'Speaker':250, 'Refrigerator':500,\n",
    "        'Charger':100, 'Laptop':400}\n",
    "Product = list(data.keys())\n",
    "Prices = list(data.values())\n",
    "  \n",
    "fig = plt.figure(figsize = (10, 5))\n",
    " \n",
    "# creating the bar plot\n",
    "plt.bar(Product, Prices, color ='green',\n",
    "        width = 0.4)\n",
    " \n",
    "plt.xlabel(\"Product Available \")\n",
    "plt.ylabel(\"Prices \")\n",
    "plt.title(\"Gada Electronics \")\n",
    "plt.show()"
   ]
  },
  {
   "cell_type": "code",
   "execution_count": 31,
   "metadata": {},
   "outputs": [
    {
     "data": {
      "image/png": "[encoded data removed]",
      "text/plain": [
       "<Figure size 720x504 with 1 Axes>"
      ]
     },
     "metadata": {},
     "output_type": "display_data"
    }
   ],
   "source": [
    "products = ['Mobile Phones', 'Laptop', 'charger',\n",
    "        'Refrigerator', 'speaker']\n",
    " \n",
    "In_Stock = [150, 100, 200, 100, 120]\n",
    " \n",
    "# Creating plot\n",
    "fig = plt.figure(figsize =(10, 7))\n",
    "plt.pie(In_Stock, labels = products)\n",
    "plt.title('Gada Electronics')\n",
    "\n",
    " \n",
    "# show plot\n",
    "plt.show()"
   ]
  },
  {
   "cell_type": "code",
   "execution_count": 33,
   "metadata": {},
   "outputs": [],
   "source": [
    "def options():\n",
    "    print(\"--------------------------------------\")\n",
    "    print(\"\\tGada Electronics\")\n",
    "    print(\"--------------------------------------\")\n",
    "    print(\"\\t1.Show All Products\")\n",
    "    print(\"\\t2.Buy Product\")\n",
    "    print(\"\\t3.Add Products\")\n",
    "    print(\"\\t4.Exit\")\n",
    "    print(\"---------------------------------------\")"
   ]
  },
  {
   "cell_type": "code",
   "execution_count": 38,
   "metadata": {},
   "outputs": [],
   "source": [
    "def display():\n",
    "    print(\"SNO\\tProduct\\t\\tAvailable\\tPrice\")\n",
    "    for item in all_products:\n",
    "        print(\"{0}\\t{1}\\t{2}\\t\\t{3}\".format(item[0], item[1], item[2], item[3]))"
   ]
  },
  {
   "cell_type": "code",
   "execution_count": 39,
   "metadata": {},
   "outputs": [],
   "source": [
    "def order_summary(product, name):\n",
    "    print(\"-----------------------------------------------\")\n",
    "    print(\"\\t\\tGada Electronics\")\n",
    "    print(\"-----------------------------------------------\")\n",
    "    print(\"Order Summary\\tDate:{}\".format(str(datetime.now())))\n",
    "    print(\"Customer Name: {}\".format(name))\n",
    "    print(\"Product Name: {}\".format(item[1]))\n",
    "    print(\"Price: {}\".format(item[-1]))\n",
    "    print(\"-----------------------------------------------\")\n",
    "    print(\"\\t\\tTotal Bill Amount: {}\".format(item[-1]))"
   ]
  },
  {
   "cell_type": "code",
   "execution_count": 40,
   "metadata": {},
   "outputs": [],
   "source": [
    "def generate_bill(product, name):\n",
    "    print(\"-----------------------------------------------\")\n",
    "    print(\"\\t\\tGada Electronics \")\n",
    "    print(\"-----------------------------------------------\")\n",
    "    print(\"Bill:{} \\tDate:{}\".format(int(random.random()*100000), str(datetime.now())))\n",
    "    print(\"Customer Name: {}\".format(name))\n",
    "    print(\"Product Name: {}\".format(item[1]))\n",
    "    print(\"Price: {}\".format(item[-1]))\n",
    "    print(\"-----------------------------------------------\")\n",
    "    print(\"\\t\\tTotal Bill Amount: {}\".format(item[-1]))"
   ]
  },
  {
   "cell_type": "code",
   "execution_count": 42,
   "metadata": {},
   "outputs": [
    {
     "name": "stdout",
     "output_type": "stream",
     "text": [
      "--------------------------------------\n",
      "\tGada Electronics\n",
      "--------------------------------------\n",
      "\t1.Show All Products\n",
      "\t2.Buy Product\n",
      "\t3.Add Products\n",
      "\t4.Exit\n",
      "---------------------------------------\n",
      "3\n",
      "Enter Admin UserID: avav\n",
      "Enter the Password: fvs\n",
      "Incorrect username and password\n",
      "--------------------------------------\n",
      "\tGada Electronics\n",
      "--------------------------------------\n",
      "\t1.Show All Products\n",
      "\t2.Buy Product\n",
      "\t3.Add Products\n",
      "\t4.Exit\n",
      "---------------------------------------\n",
      "3\n",
      "Enter Admin UserID: Admin\n",
      "Enter the Password: password \n",
      "Incorrect username and password\n",
      "--------------------------------------\n",
      "\tGada Electronics\n",
      "--------------------------------------\n",
      "\t1.Show All Products\n",
      "\t2.Buy Product\n",
      "\t3.Add Products\n",
      "\t4.Exit\n",
      "---------------------------------------\n",
      "3\n",
      "Enter Admin UserID: Admin\n",
      "Enter the Password: password\n",
      "Enter the Product Name: Fan \n",
      "Available: 20\n",
      "Price: 30\n",
      "--------------------------------------\n",
      "\tGada Electronics\n",
      "--------------------------------------\n",
      "\t1.Show All Products\n",
      "\t2.Buy Product\n",
      "\t3.Add Products\n",
      "\t4.Exit\n",
      "---------------------------------------\n",
      "1\n",
      "SNO\tProduct\t\tAvailable\tPrice\n",
      "1\tMobile Phones\t149\t\t200$\n",
      "2\tLaptop\t100\t\t400$\n",
      "3\tcharger\t200\t\t100$\n",
      "4\tRefrigerator\t99\t\t500$\n",
      "5\tSpeaker\t250\t\t300$\n",
      "6\tFan \t20\t\t30\n",
      "--------------------------------------\n",
      "\tGada Electronics\n",
      "--------------------------------------\n",
      "\t1.Show All Products\n",
      "\t2.Buy Product\n",
      "\t3.Add Products\n",
      "\t4.Exit\n",
      "---------------------------------------\n",
      "4\n",
      "GoodBye!!\n"
     ]
    }
   ],
   "source": [
    "while(True):\n",
    "    options()\n",
    "    choice = int(input())\n",
    "    if choice == 1:\n",
    "        display()\n",
    "    elif choice == 2:\n",
    "        display()\n",
    "        prod_id = int(input(\"Enter the Product ID: \"))\n",
    "        for item in all_products:\n",
    "            if item[0] == prod_id:\n",
    "                name = input(\"Customer Name: \")\n",
    "                order_summary(item, name)\n",
    "                a = input(\"Confirm the Order(Y/N)\")\n",
    "                if a == 'Y':\n",
    "                    item[2] -= 1\n",
    "                    generate_bill(item, name)\n",
    "                    print(\"Thanks For shopping with Us\")\n",
    "                    sys.exit(0)\n",
    "                else:\n",
    "                    print(\"Continue Exploring the shop\")\n",
    "    elif choice == 3:\n",
    "        username = input(\"Enter Admin UserID: \")\n",
    "        password = input(\"Enter the Password: \")\n",
    "        if username == \"Admin\" and password == \"password\":\n",
    "            prod = []\n",
    "            prod.append(len(all_products)+1)\n",
    "            prod.append(input(\"Enter the Product Name: \"))\n",
    "            prod.append(int(input(\"Available: \")))\n",
    "            prod.append(int(input(\"Price: \")))\n",
    "            all_products.append(prod)\n",
    "        else:\n",
    "            print(\"Incorrect username and password\")\n",
    "    else:\n",
    "        print(\"GoodBye!!\")\n",
    "        break"
   ]
  },
  {
   "cell_type": "code",
   "execution_count": null,
   "metadata": {},
   "outputs": [],
   "source": []
  }
 ],
 "metadata": {
  "kernelspec": {
   "display_name": "Python 3",
   "language": "python",
   "name": "python3"
  },
  "language_info": {
   "codemirror_mode": {
    "name": "ipython",
    "version": 3
   },
   "file_extension": ".py",
   "mimetype": "text/x-python",
   "name": "python",
   "nbconvert_exporter": "python",
   "pygments_lexer": "ipython3",
   "version": "3.8.3"
  }
 },
 "nbformat": 4,
 "nbformat_minor": 4
}
